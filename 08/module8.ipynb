{
 "cells": [
  {
   "cell_type": "code",
   "execution_count": null,
   "id": "13a800bf-b62e-4e33-baf1-fece98443dc0",
   "metadata": {},
   "outputs": [
    {
     "name": "stderr",
     "output_type": "stream",
     "text": [
      "C:\\Users\\Alex\\anaconda3\\Lib\\site-packages\\keras\\src\\layers\\convolutional\\base_conv.py:107: UserWarning: Do not pass an `input_shape`/`input_dim` argument to a layer. When using Sequential models, prefer using an `Input(shape)` object as the first layer in the model instead.\n",
      "  super().__init__(activity_regularizer=activity_regularizer, **kwargs)\n"
     ]
    },
    {
     "name": "stdout",
     "output_type": "stream",
     "text": [
      "Epoch 1/10\n",
      "\u001b[1m1875/1875\u001b[0m \u001b[32m━━━━━━━━━━━━━━━━━━━━\u001b[0m\u001b[37m\u001b[0m \u001b[1m5s\u001b[0m 2ms/step - accuracy: 0.5084 - loss: 1.4189\n",
      "Epoch 2/10\n",
      "\u001b[1m1875/1875\u001b[0m \u001b[32m━━━━━━━━━━━━━━━━━━━━\u001b[0m\u001b[37m\u001b[0m \u001b[1m4s\u001b[0m 2ms/step - accuracy: 0.9296 - loss: 0.2309\n",
      "Epoch 3/10\n",
      "\u001b[1m1875/1875\u001b[0m \u001b[32m━━━━━━━━━━━━━━━━━━━━\u001b[0m\u001b[37m\u001b[0m \u001b[1m4s\u001b[0m 2ms/step - accuracy: 0.9503 - loss: 0.1589\n",
      "Epoch 4/10\n",
      "\u001b[1m1875/1875\u001b[0m \u001b[32m━━━━━━━━━━━━━━━━━━━━\u001b[0m\u001b[37m\u001b[0m \u001b[1m4s\u001b[0m 2ms/step - accuracy: 0.9609 - loss: 0.1247\n",
      "Epoch 5/10\n",
      "\u001b[1m1875/1875\u001b[0m \u001b[32m━━━━━━━━━━━━━━━━━━━━\u001b[0m\u001b[37m\u001b[0m \u001b[1m4s\u001b[0m 2ms/step - accuracy: 0.9677 - loss: 0.1016\n",
      "Epoch 6/10\n",
      "\u001b[1m1875/1875\u001b[0m \u001b[32m━━━━━━━━━━━━━━━━━━━━\u001b[0m\u001b[37m\u001b[0m \u001b[1m4s\u001b[0m 2ms/step - accuracy: 0.9731 - loss: 0.0850\n",
      "Epoch 7/10\n",
      "\u001b[1m1875/1875\u001b[0m \u001b[32m━━━━━━━━━━━━━━━━━━━━\u001b[0m\u001b[37m\u001b[0m \u001b[1m4s\u001b[0m 2ms/step - accuracy: 0.9749 - loss: 0.0755\n",
      "Epoch 8/10\n",
      "\u001b[1m1875/1875\u001b[0m \u001b[32m━━━━━━━━━━━━━━━━━━━━\u001b[0m\u001b[37m\u001b[0m \u001b[1m4s\u001b[0m 2ms/step - accuracy: 0.9801 - loss: 0.0656\n",
      "Epoch 9/10\n",
      "\u001b[1m1875/1875\u001b[0m \u001b[32m━━━━━━━━━━━━━━━━━━━━\u001b[0m\u001b[37m\u001b[0m \u001b[1m4s\u001b[0m 2ms/step - accuracy: 0.9804 - loss: 0.0615\n",
      "Epoch 10/10\n",
      "\u001b[1m1875/1875\u001b[0m \u001b[32m━━━━━━━━━━━━━━━━━━━━\u001b[0m\u001b[37m\u001b[0m \u001b[1m4s\u001b[0m 2ms/step - accuracy: 0.9828 - loss: 0.0572\n"
     ]
    },
    {
     "ename": "AttributeError",
     "evalue": "'NoneType' object has no attribute 'shape'",
     "output_type": "error",
     "traceback": [
      "\u001b[1;31m---------------------------------------------------------------------------\u001b[0m",
      "\u001b[1;31mAttributeError\u001b[0m                            Traceback (most recent call last)",
      "Cell \u001b[1;32mIn[1], line 28\u001b[0m\n\u001b[0;32m     25\u001b[0m lenet_loaded\u001b[38;5;241m.\u001b[39mload(\u001b[38;5;124m\"\u001b[39m\u001b[38;5;124mscheuer_cnn_model\u001b[39m\u001b[38;5;124m\"\u001b[39m)\n\u001b[0;32m     27\u001b[0m \u001b[38;5;66;03m# Verify by evaluating on the test set\u001b[39;00m\n\u001b[1;32m---> 28\u001b[0m test_loss, test_accuracy \u001b[38;5;241m=\u001b[39m lenet_loaded\u001b[38;5;241m.\u001b[39mmodel\u001b[38;5;241m.\u001b[39mevaluate(lenet_loaded\u001b[38;5;241m.\u001b[39mx_test, lenet_loaded\u001b[38;5;241m.\u001b[39my_test, verbose\u001b[38;5;241m=\u001b[39m\u001b[38;5;241m0\u001b[39m)\n\u001b[0;32m     29\u001b[0m \u001b[38;5;28mprint\u001b[39m(\u001b[38;5;124mf\u001b[39m\u001b[38;5;124m\"\u001b[39m\u001b[38;5;124mTest Loss: \u001b[39m\u001b[38;5;132;01m{\u001b[39;00mtest_loss\u001b[38;5;132;01m:\u001b[39;00m\u001b[38;5;124m.4f\u001b[39m\u001b[38;5;132;01m}\u001b[39;00m\u001b[38;5;124m, Test Accuracy: \u001b[39m\u001b[38;5;132;01m{\u001b[39;00mtest_accuracy\u001b[38;5;132;01m:\u001b[39;00m\u001b[38;5;124m.4f\u001b[39m\u001b[38;5;132;01m}\u001b[39;00m\u001b[38;5;124m\"\u001b[39m)\n\u001b[0;32m     32\u001b[0m \u001b[38;5;66;03m# Step 3: Test with Custom Handwritten Digit Images\u001b[39;00m\n\u001b[0;32m     33\u001b[0m \u001b[38;5;66;03m# Function to load and preprocess custom digit images\u001b[39;00m\n",
      "File \u001b[1;32m~\\anaconda3\\Lib\\site-packages\\keras\\src\\utils\\traceback_utils.py:122\u001b[0m, in \u001b[0;36mfilter_traceback.<locals>.error_handler\u001b[1;34m(*args, **kwargs)\u001b[0m\n\u001b[0;32m    119\u001b[0m     filtered_tb \u001b[38;5;241m=\u001b[39m _process_traceback_frames(e\u001b[38;5;241m.\u001b[39m__traceback__)\n\u001b[0;32m    120\u001b[0m     \u001b[38;5;66;03m# To get the full stack trace, call:\u001b[39;00m\n\u001b[0;32m    121\u001b[0m     \u001b[38;5;66;03m# `keras.config.disable_traceback_filtering()`\u001b[39;00m\n\u001b[1;32m--> 122\u001b[0m     \u001b[38;5;28;01mraise\u001b[39;00m e\u001b[38;5;241m.\u001b[39mwith_traceback(filtered_tb) \u001b[38;5;28;01mfrom\u001b[39;00m \u001b[38;5;28;01mNone\u001b[39;00m\n\u001b[0;32m    123\u001b[0m \u001b[38;5;28;01mfinally\u001b[39;00m:\n\u001b[0;32m    124\u001b[0m     \u001b[38;5;28;01mdel\u001b[39;00m filtered_tb\n",
      "File \u001b[1;32m~\\anaconda3\\Lib\\site-packages\\keras\\src\\trainers\\data_adapters\\data_adapter_utils.py:103\u001b[0m, in \u001b[0;36m<genexpr>\u001b[1;34m(.0)\u001b[0m\n\u001b[0;32m    102\u001b[0m \u001b[38;5;28;01mdef\u001b[39;00m \u001b[38;5;21mcheck_data_cardinality\u001b[39m(data):\n\u001b[1;32m--> 103\u001b[0m     num_samples \u001b[38;5;241m=\u001b[39m \u001b[38;5;28mset\u001b[39m(\u001b[38;5;28mint\u001b[39m(i\u001b[38;5;241m.\u001b[39mshape[\u001b[38;5;241m0\u001b[39m]) \u001b[38;5;28;01mfor\u001b[39;00m i \u001b[38;5;129;01min\u001b[39;00m tree\u001b[38;5;241m.\u001b[39mflatten(data))\n\u001b[0;32m    104\u001b[0m     \u001b[38;5;28;01mif\u001b[39;00m \u001b[38;5;28mlen\u001b[39m(num_samples) \u001b[38;5;241m>\u001b[39m \u001b[38;5;241m1\u001b[39m:\n\u001b[0;32m    105\u001b[0m         msg \u001b[38;5;241m=\u001b[39m (\n\u001b[0;32m    106\u001b[0m             \u001b[38;5;124m\"\u001b[39m\u001b[38;5;124mData cardinality is ambiguous. \u001b[39m\u001b[38;5;124m\"\u001b[39m\n\u001b[0;32m    107\u001b[0m             \u001b[38;5;124m\"\u001b[39m\u001b[38;5;124mMake sure all arrays contain the same number of samples.\u001b[39m\u001b[38;5;124m\"\u001b[39m\n\u001b[0;32m    108\u001b[0m         )\n",
      "\u001b[1;31mAttributeError\u001b[0m: 'NoneType' object has no attribute 'shape'"
     ]
    }
   ],
   "source": [
    "from le_net import LeNet\n",
    "import numpy as np\n",
    "import matplotlib.pyplot as plt\n",
    "from tensorflow.keras.preprocessing.image import load_img, img_to_array\n",
    "\n",
    "# Step 1: Train and Save the Model\n",
    "# Create a LeNet instance\n",
    "lenet = LeNet(batch_size=32, epochs=10)\n",
    "\n",
    "# Train the model on the MNIST dataset\n",
    "lenet.train()\n",
    "\n",
    "# Save the trained model\n",
    "lenet.save(\"scheuer_cnn_model\")\n",
    "\n",
    "\n",
    "# Step 2: Load the Model and Test It\n",
    "# Create a new LeNet instance\n",
    "lenet_loaded = LeNet()\n",
    "\n",
    "# Load the previously saved model\n",
    "lenet_loaded.load(\"scheuer_cnn_model\")\n",
    "\n",
    "# Verify by evaluating on the test set\n",
    "test_loss, test_accuracy = lenet_loaded.model.evaluate(lenet_loaded.x_test, lenet_loaded.y_test, verbose=0)\n",
    "print(f\"Test Loss: {test_loss:.4f}, Test Accuracy: {test_accuracy:.4f}\")\n",
    "\n",
    "\n",
    "# Step 3: Test with Custom Handwritten Digit Images\n",
    "# Function to load and preprocess custom digit images\n",
    "def preprocess_custom_images(image_paths):\n",
    "    images = []\n",
    "    for path in image_paths:\n",
    "        # Load the image, convert it to grayscale, and resize to 28x28\n",
    "        img = load_img(path, color_mode=\"grayscale\", target_size=(28, 28))\n",
    "        \n",
    "        # Convert the image to a numpy array and normalize pixel values\n",
    "        img_array = img_to_array(img) / 255.0\n",
    "        \n",
    "        # Add a channel dimension to match input shape for LeNet\n",
    "        img_array = img_array.reshape(28, 28, 1)\n",
    "        \n",
    "        images.append(img_array)\n",
    "    \n",
    "    return np.array(images)\n",
    "\n",
    "# List of file paths to your hand-written digit images (assuming you have 5 images for each digit from 0 to 9)\n",
    "# Replace \"path/to/image_0_1.png\" etc. with the actual file paths of your images\n",
    "image_paths = [\n",
    "    \"images/0_0.png\", \"images/0_1.png\", \"images/0_2.png\", \"images/0_3.png\", \"images/0_4.png\",\n",
    "    \"images/1_0.png\", \"images/1_1.png\", \"images/1_2.png\", \"images/1_3.png\", \"images/1_4.png\",\n",
    "    \"images/2_0.png\", \"images/2_1.png\", \"images/2_2.png\", \"images/2_3.png\", \"images/2_4.png\", \n",
    "    \"images/3_0.png\", \"images/3_1.png\", \"images/3_2.png\", \"images/3_3.png\", \"images/3_4.png\",\n",
    "    \"images/4_0.png\", \"images/4_1.png\", \"images/4_2.png\", \"images/4_3.png\", \"images/4_4.png\",\n",
    "    \"images/5_0.png\", \"images/5_1.png\", \"images/5_2.png\", \"images/5_3.png\", \"images/5_4.png\",\n",
    "    \"images/6_0.png\", \"images/6_1.png\", \"images/6_2.png\", \"images/6_3.png\", \"images/6_4.png\",\n",
    "    \"images/7_0.png\", \"images/7_1.png\", \"images/7_2.png\", \"images/7_3.png\", \"images/7_4.png\",\n",
    "    \"images/8_0.png\", \"images/8_1.png\", \"images/8_2.png\", \"images/8_3.png\", \"images/8_4.png\",\n",
    "    \"images/9_0.png\", \"images/9_1.png\", \"images/9_2.png\", \"images/9_3.png\", \"images/9_4.png\",\n",
    "]\n",
    "\n",
    "# Preprocess the custom images\n",
    "custom_images = preprocess_custom_images(image_paths)\n",
    "\n",
    "# Predict the classes of the custom images\n",
    "predictions = lenet_loaded.predict(custom_images)\n",
    "\n",
    "# Print predictions alongside images\n",
    "for i, img_path in enumerate(image_paths):\n",
    "    plt.imshow(load_img(img_path, color_mode=\"grayscale\"), cmap=\"gray\")\n",
    "    plt.title(f\"Predicted Label: {predictions[i]}\")\n",
    "    plt.axis(\"off\")\n",
    "    plt.show()\n"
   ]
  }
 ],
 "metadata": {
  "kernelspec": {
   "display_name": "Python 3 (ipykernel)",
   "language": "python",
   "name": "python3"
  },
  "language_info": {
   "codemirror_mode": {
    "name": "ipython",
    "version": 3
   },
   "file_extension": ".py",
   "mimetype": "text/x-python",
   "name": "python",
   "nbconvert_exporter": "python",
   "pygments_lexer": "ipython3",
   "version": "3.12.4"
  }
 },
 "nbformat": 4,
 "nbformat_minor": 5
}

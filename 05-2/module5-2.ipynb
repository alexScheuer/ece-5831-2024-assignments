{
 "cells": [
  {
   "cell_type": "code",
   "execution_count": 1309,
   "id": "f36ec79b-c88c-4345-a0e3-b810e40cb20c",
   "metadata": {},
   "outputs": [],
   "source": [
    "#MNIST - Hello World for ML\n",
    "import numpy as np\n",
    "import urllib\n",
    "import gzip\n",
    "import pickle\n",
    "import os\n",
    "import matplotlib.pyplot as plt\n",
    "\n",
    "class MnistData:\n",
    "    image_size = 28*28\n",
    "    dataset_dir = 'dataset'\n",
    "    dataset_pkl = 'mnist.pkl'\n",
    "    url_base = 'https://jrkwon.com/data/ece5831/mnist/'\n",
    "\n",
    "    file_name = key_file['train_images']\n",
    "    file_path = url_base + file_name\n",
    "\n",
    "    key_file = {\n",
    "        'train_images': 'train-images-idx3-ubyte.gz',\n",
    "        'train_labels': 'train-labels-idx1-ubyte.gz',\n",
    "        'test_images':  't10k-images-idx3-ubyte.gz',\n",
    "        'test_labels':  't10k-labels-idx1-ubyte.gz'\n",
    "    }\n",
    "    \n",
    "    def __init__(self, image_size):\n",
    "        self.image_size = image_size\n",
    "        self.url_base = 'https://jrkwon.com/data/ece5831/mnist/'\n",
    "\n",
    "    def softmax(self, a):\n",
    "        return np.exp(a) / np.sum(np.exp(a))\n",
    "\n",
    "    def softmax_modified(self, a):\n",
    "        c = np.max(a)\n",
    "        exp_a = np.exp(a - c)\n",
    "        return exp_a / np.sum(exp_a)\n",
    "\n",
    "    def _load_images(self, file_name):\n",
    "        with gzip.open(file_name, 'rb') as f:\n",
    "            images = np.frombuffer(f.read(), np.uint8, offset=16)\n",
    "        images = images.reshape(-1, self.image_size)\n",
    "        return images\n",
    "\n",
    "    def _load_labels(self, file_name):\n",
    "        with gzip.open(file_name, 'rb') as f:\n",
    "            labels = np.frombuffer(f.read(), np.uint8, offset=8)\n",
    "        return labels\n",
    "\n",
    "    def download(self, file_name):\n",
    "        file_path = os.path.join(dataset_dir, file_name)\n",
    "\n",
    "        if os.path.exists(file_path):\n",
    "            print(f'File: {file_name} already exists')\n",
    "            return\n",
    "\n",
    "        print(f'Downloading {file_name}...')\n",
    "        urllib.request.urlretrieve(self.url_base + file_name, file_path)\n",
    "\n",
    "    def _download_all(self):\n",
    "        for file_name in key_file.values():\n",
    "            self.download(file_name)\n",
    "\n",
    "    def change_one_hot_label(self, y, num_class, idx):\n",
    "        t = np.zeros((y.size, num_class))\n",
    "        for idx, row in enumerate(t):\n",
    "            row[y[idx]] = 1\n",
    "        return t\n",
    "\n",
    "    def _create_dataset(self, key_file, dataset_dir, dataset_pkl, file_name1, file_name2, file_name3, file_name4):\n",
    "        dataset = {}\n",
    "        dataset[file_name1] = self._load_images(os.path.join(dataset_dir, key_file[file_name1]))\n",
    "        dataset[file_name2] = self._load_labels(os.path.join(dataset_dir, key_file[file_name2]))\n",
    "        dataset[file_name3] = self._load_images(os.path.join(dataset_dir, key_file[file_name3]))\n",
    "        dataset[file_name4] = self._load_labels(os.path.join(dataset_dir, key_file[file_name4]))\n",
    "\n",
    "        with open(os.path.join(dataset_dir, dataset_pkl), 'wb') as f:  # Change to 'wb'\n",
    "            print(f'Pickle: {dataset_dir}/{dataset_pkl} is being created.')\n",
    "            pickle.dump(dataset, f)\n",
    "        \n",
    "        return dataset\n",
    "\n",
    "    def init_dataset(self, key_file, dataset_dir, dataset_pkl, file_name1, file_name2, file_name3, file_name4):\n",
    "        self._download_all()\n",
    "        if os.path.exists(os.path.join(dataset_dir, dataset_pkl)):\n",
    "            with open(os.path.join(dataset_dir, dataset_pkl), 'rb') as f:\n",
    "                dataset = pickle.load(f) \n",
    "        else:\n",
    "            dataset = self._create_dataset(key_file, dataset_dir, dataset_pkl, file_name1, file_name2, file_name3, file_name4)\n",
    "        \n",
    "        return dataset\n",
    "\n"
   ]
  },
  {
   "cell_type": "code",
   "execution_count": 1310,
   "id": "20e717c8-932e-4fba-a610-3e423b03af62",
   "metadata": {},
   "outputs": [
    {
     "data": {
      "text/plain": [
       "(10000, 784)"
      ]
     },
     "execution_count": 1310,
     "metadata": {},
     "output_type": "execute_result"
    }
   ],
   "source": [
    "#image_size = 28*28\n",
    "#myMnistData = MnistData(image_size=image_size)\n",
    "\n",
    "#url_base = 'https://jrkwon.com/data/ece5831/mnist/'\n",
    "#dataset_dir = 'dataset'\n",
    "\n",
    "#key_file = {\n",
    "#    'train_images': 'train-images-idx3-ubyte.gz',\n",
    "#    'train_labels': 'train-labels-idx1-ubyte.gz',\n",
    "#    'test_images':  't10k-images-idx3-ubyte.gz',\n",
    "#    'test_labels':  't10k-labels-idx1-ubyte.gz'\n",
    "#}\n",
    "\n",
    "#file_name = key_file['train_images']\n",
    "#file_path = url_base + file_name\n",
    "\n",
    "#dataset_pkl = 'mnist.pkl'\n",
    "\n",
    "images = myMnistData._load_images(dataset_dir + '/' + key_file['test_images'])\n",
    "images.shape"
   ]
  },
  {
   "cell_type": "code",
   "execution_count": 1311,
   "id": "3c835441-742d-472b-b464-9594e143651c",
   "metadata": {},
   "outputs": [],
   "source": [
    "a = np.array([10, 20, 30])\n",
    "s = softmax(a)"
   ]
  },
  {
   "cell_type": "code",
   "execution_count": 1312,
   "id": "d1859854-cd3b-4fed-85fd-afdfe14b3c69",
   "metadata": {},
   "outputs": [
    {
     "name": "stderr",
     "output_type": "stream",
     "text": [
      "C:\\Users\\Alex\\AppData\\Local\\Temp\\ipykernel_3508\\303232154.py:4: RuntimeWarning: overflow encountered in exp\n",
      "  return np.exp(a)/np.sum(np.exp(a))\n",
      "C:\\Users\\Alex\\AppData\\Local\\Temp\\ipykernel_3508\\303232154.py:4: RuntimeWarning: invalid value encountered in divide\n",
      "  return np.exp(a)/np.sum(np.exp(a))\n"
     ]
    }
   ],
   "source": [
    "#how about 900, 1000\n",
    "\n",
    "a = np.array([900, 1000])\n",
    "s = softmax(a)"
   ]
  },
  {
   "cell_type": "code",
   "execution_count": 1313,
   "id": "c64b878c-eba2-4ad4-beb9-c61639cf7f69",
   "metadata": {},
   "outputs": [
    {
     "data": {
      "text/plain": [
       "array([3.72007598e-44, 1.00000000e+00])"
      ]
     },
     "execution_count": 1313,
     "metadata": {},
     "output_type": "execute_result"
    }
   ],
   "source": [
    "a = np.array([900, 1000])\n",
    "s = softmax_modified(a)\n",
    "\n",
    "s"
   ]
  },
  {
   "cell_type": "code",
   "execution_count": 1314,
   "id": "b6eb04db-9124-47be-b252-3bb02885bf55",
   "metadata": {},
   "outputs": [
    {
     "data": {
      "text/plain": [
       "array([5.14820022e-131, 1.00000000e+000])"
      ]
     },
     "execution_count": 1314,
     "metadata": {},
     "output_type": "execute_result"
    }
   ],
   "source": [
    "a = np.array([800, 1100])\n",
    "s = softmax_modified(a)\n",
    "\n",
    "s"
   ]
  },
  {
   "cell_type": "code",
   "execution_count": 1315,
   "id": "58d9e624-373f-4327-a59c-214b9f432501",
   "metadata": {},
   "outputs": [
    {
     "data": {
      "text/plain": [
       "array([7.12457641e-218, 1.00000000e+000])"
      ]
     },
     "execution_count": 1315,
     "metadata": {},
     "output_type": "execute_result"
    }
   ],
   "source": [
    "a = np.array([700, 1200])\n",
    "s = softmax_modified(a)\n",
    "\n",
    "s"
   ]
  },
  {
   "cell_type": "code",
   "execution_count": 1316,
   "id": "f4d5b500-75c1-4daf-bf6e-19446e127f17",
   "metadata": {},
   "outputs": [
    {
     "data": {
      "text/plain": [
       "'train-images-idx3-ubyte.gz'"
      ]
     },
     "execution_count": 1316,
     "metadata": {},
     "output_type": "execute_result"
    }
   ],
   "source": [
    "#testing key_file\n",
    "\n",
    "key_file['train_images']"
   ]
  },
  {
   "cell_type": "code",
   "execution_count": 1317,
   "id": "1b948bdf-0583-46cc-8a53-a888c8c40eac",
   "metadata": {},
   "outputs": [],
   "source": [
    "#Downloading a file\n",
    "\n",
    "file_name = key_file['train_images']\n",
    "file_path = url_base + file_name\n",
    "#urlretrieve gets an error message\n",
    "#urllib.request.urlretrieve(file_path, dataset_dir + '/' + file_name)"
   ]
  },
  {
   "cell_type": "code",
   "execution_count": 1318,
   "id": "01ec2661-2101-4c92-9c46-ec2efc21723c",
   "metadata": {},
   "outputs": [
    {
     "name": "stdout",
     "output_type": "stream",
     "text": [
      "File: train-images-idx3-ubyte.gz already exists\n",
      "File: train-labels-idx1-ubyte.gz already exists\n",
      "File: t10k-images-idx3-ubyte.gz already exists\n",
      "File: t10k-labels-idx1-ubyte.gz already exists\n"
     ]
    }
   ],
   "source": [
    "#testing download_all\n",
    "myMnistData._download_all()\n"
   ]
  },
  {
   "cell_type": "code",
   "execution_count": 1319,
   "id": "fa4131fc-baf4-4899-810d-70827eb9b26b",
   "metadata": {},
   "outputs": [
    {
     "data": {
      "text/plain": [
       "<matplotlib.image.AxesImage at 0x1d90b9c7140>"
      ]
     },
     "execution_count": 1319,
     "metadata": {},
     "output_type": "execute_result"
    },
    {
     "data": {
      "image/png": "[encoded data removed]",
      "text/plain": [
       "<Figure size 640x480 with 1 Axes>"
      ]
     },
     "metadata": {},
     "output_type": "display_data"
    }
   ],
   "source": [
    "idx = 1000\n",
    "\n",
    "a = images[idx].reshape(28, 28)\n",
    "plt.imshow(a)"
   ]
  },
  {
   "cell_type": "code",
   "execution_count": 1320,
   "id": "3193a059-e7d5-4731-8d90-f2aeae25c6ef",
   "metadata": {},
   "outputs": [
    {
     "data": {
      "text/plain": [
       "9"
      ]
     },
     "execution_count": 1320,
     "metadata": {},
     "output_type": "execute_result"
    }
   ],
   "source": [
    "labels = myMnistData._load_labels(f'{dataset_dir}/{key_file['test_labels']}')\n",
    "labels[idx]"
   ]
  },
  {
   "cell_type": "code",
   "execution_count": 1321,
   "id": "557b061c-0849-430c-9d3d-e44107b2ce7f",
   "metadata": {},
   "outputs": [
    {
     "name": "stdout",
     "output_type": "stream",
     "text": [
      "Pickle: dataset/mnist.pkl is being created.\n"
     ]
    },
    {
     "data": {
      "text/plain": [
       "array([  0,   0,   0,   0,   0,   0,   0,   0,   0,   0,   0,   0,   0,\n",
       "         0,   0,   0,   0,   0,   0,   0,   0,   0,   0,   0,   0,   0,\n",
       "         0,   0,   0,   0,   0,   0,   0,   0,   0,   0,   0,   0,   0,\n",
       "         0,   0,   0,   0,   0,   0,   0,   0,   0,   0,   0,   0,   0,\n",
       "         0,   0,   0,   0,   0,   0,   0,   0,   0,   0,   0,   0,   0,\n",
       "         0,   0,   0,   0,   0,   0,   0,   0,   0,   0,   0,   0,   0,\n",
       "         0,   0,   0,   0,   0,   0,   0,   0,   0,   0,   0,   0,   0,\n",
       "         0,   0,   0,   0,   0,   0,   0,   0,   0,   0,   0,   0,   0,\n",
       "         0,   0,   0,   0,   0,   0,   0,   0,   0,   0,   0,   0,   0,\n",
       "         0,   0,   0,   0,   0,   0,   0,   0,   0,   0,   0,   0,   0,\n",
       "         0,   0,   0,   0,   0,   0,   0,   0,   0,   0,   0,   0,   0,\n",
       "         0,   0,   0,   0,   0,   0,   0,   0,   0,   0,   0,  36, 146,\n",
       "       254, 255, 251,  95,   6,   0,   0,   0,   0,   0,   0,   0,   0,\n",
       "         0,   0,   0,   0,   0,   0,   0,   0,   0,   0,   0,   3,  97,\n",
       "       234, 254, 254, 232, 254, 254,  35,   0,   0,   0,   0,   0,   0,\n",
       "         0,   0,   0,   0,   0,   0,   0,   0,   0,   0,   0,   0,  89,\n",
       "       140, 254, 254, 174,  67,  33, 200, 254, 190,   0,   0,   0,   0,\n",
       "         0,   0,   0,   0,   0,   0,   0,   0,   0,   0,   0,   0,   0,\n",
       "       108, 253, 254, 235,  51,   1,   0,   0,  12, 254, 253,  56,   0,\n",
       "         0,   0,   0,   0,   0,   0,   0,   0,   0,   0,   0,   0,   0,\n",
       "         0,  12, 216, 254, 244,  55,   0,   0,   0,   0,   6, 213, 254,\n",
       "        57,   0,   0,   0,   0,   0,   0,   0,   0,   0,   0,   0,   0,\n",
       "         0,   0,   0,  25, 254, 254, 132,   0,   0,   0,   0,   0,   0,\n",
       "       168, 254,  57,   0,   0,   0,   0,   0,   0,   0,   0,   0,   0,\n",
       "         0,   0,   0,   0,   0,  45, 254, 243,  34,   0,   0,   0,   0,\n",
       "         0,   0, 168, 254,  57,   0,   0,   0,   0,   0,   0,   0,   0,\n",
       "         0,   0,   0,   0,   0,   0,   0, 128, 254, 157,   0,   0,   0,\n",
       "         0,   0,   0,   0, 168, 254,  57,   0,   0,   0,   0,   0,   0,\n",
       "         0,   0,   0,   0,   0,   0,   0,   0,  19, 228, 254, 105,   0,\n",
       "         0,   0,   0,   0,   0,   7, 228, 254,  57,   0,   0,   0,   0,\n",
       "         0,   0,   0,   0,   0,   0,   0,   0,   0,   0,  58, 254, 254,\n",
       "        87,   0,   0,   0,   0,   0,   0,  10, 254, 246,  47,   0,   0,\n",
       "         0,   0,   0,   0,   0,   0,   0,   0,   0,   0,   0,   0,  58,\n",
       "       254, 254,   9,   0,   0,   0,   0,   0,   0,  10, 254, 210,   0,\n",
       "         0,   0,   0,   0,   0,   0,   0,   0,   0,   0,   0,   0,   0,\n",
       "         0,  58, 254, 254,   9,   0,   0,   0,   0,   0,   0, 105, 254,\n",
       "        91,   0,   0,   0,   0,   0,   0,   0,   0,   0,   0,   0,   0,\n",
       "         0,   0,   0,   5, 219, 254,   9,   0,   0,   0,   0,   0,  24,\n",
       "       230, 254,  24,   0,   0,   0,   0,   0,   0,   0,   0,   0,   0,\n",
       "         0,   0,   0,   0,   0,   0, 216, 254,   9,   0,   0,   0,   0,\n",
       "         0,  84, 254, 251,  23,   0,   0,   0,   0,   0,   0,   0,   0,\n",
       "         0,   0,   0,   0,   0,   0,   0,   0, 216, 254,  36,   0,   0,\n",
       "         0,   0,  22, 208, 251,  94,   0,   0,   0,   0,   0,   0,   0,\n",
       "         0,   0,   0,   0,   0,   0,   0,   0,   0,   0, 129, 254, 120,\n",
       "         0,   0,   0,   3, 140, 254, 229,   0,   0,   0,   0,   0,   0,\n",
       "         0,   0,   0,   0,   0,   0,   0,   0,   0,   0,   0,   0,  83,\n",
       "       254, 222,  17,   0,   0,  91, 254, 236,  53,   0,   0,   0,   0,\n",
       "         0,   0,   0,   0,   0,   0,   0,   0,   0,   0,   0,   0,   0,\n",
       "         0,  18, 235, 254, 134,  21, 119, 237, 254, 124,   0,   0,   0,\n",
       "         0,   0,   0,   0,   0,   0,   0,   0,   0,   0,   0,   0,   0,\n",
       "         0,   0,   0,   0,  53, 249, 254, 234, 252, 254, 172,   3,   0,\n",
       "         0,   0,   0,   0,   0,   0,   0,   0,   0,   0,   0,   0,   0,\n",
       "         0,   0,   0,   0,   0,   0,   0, 116, 237, 254, 254, 133,  20,\n",
       "         0,   0,   0,   0,   0,   0,   0,   0,   0,   0,   0,   0,   0,\n",
       "         0,   0,   0,   0,   0,   0,   0,   0,   0,   0,   0,   0,   0,\n",
       "         0,   0,   0,   0,   0,   0,   0,   0,   0,   0,   0,   0,   0,\n",
       "         0,   0,   0,   0,   0,   0,   0,   0,   0,   0,   0,   0,   0,\n",
       "         0,   0,   0,   0,   0,   0,   0,   0,   0,   0,   0,   0,   0,\n",
       "         0,   0,   0,   0,   0,   0,   0,   0,   0,   0,   0,   0,   0,\n",
       "         0,   0,   0,   0,   0,   0,   0,   0,   0,   0,   0,   0,   0,\n",
       "         0,   0,   0,   0], dtype=uint8)"
      ]
     },
     "execution_count": 1321,
     "metadata": {},
     "output_type": "execute_result"
    }
   ],
   "source": [
    "mnist_data_base = 'mnist/'\n",
    "\n",
    "dataset = myMnistData._create_dataset(key_file, dataset_dir, dataset_pkl, 'train_images', 'train_labels', 'test_images', 'test_labels')\n",
    "\n",
    "dataset['train_images'][idx]"
   ]
  },
  {
   "cell_type": "code",
   "execution_count": 1322,
   "id": "525daeb4-e814-41ce-8fdd-b2694af469c1",
   "metadata": {},
   "outputs": [
    {
     "data": {
      "text/plain": [
       "<matplotlib.image.AxesImage at 0x1d90b3e0b60>"
      ]
     },
     "execution_count": 1322,
     "metadata": {},
     "output_type": "execute_result"
    },
    {
     "data": {
      "image/png": "[encoded data removed]",
      "text/plain": [
       "<Figure size 640x480 with 1 Axes>"
      ]
     },
     "metadata": {},
     "output_type": "display_data"
    }
   ],
   "source": [
    "img = dataset['train_images'][idx].reshape(28, 28)\n",
    "plt.imshow(img)"
   ]
  },
  {
   "cell_type": "code",
   "execution_count": 1323,
   "id": "d38dcf14-9e12-4177-9b05-902ca9caa31c",
   "metadata": {},
   "outputs": [
    {
     "name": "stdout",
     "output_type": "stream",
     "text": [
      "File: train-images-idx3-ubyte.gz already exists\n",
      "File: train-labels-idx1-ubyte.gz already exists\n",
      "File: t10k-images-idx3-ubyte.gz already exists\n",
      "File: t10k-labels-idx1-ubyte.gz already exists\n",
      "Pickle: dataset/mnist.pkl is being created.\n"
     ]
    },
    {
     "data": {
      "text/plain": [
       "(10000, 784)"
      ]
     },
     "execution_count": 1323,
     "metadata": {},
     "output_type": "execute_result"
    }
   ],
   "source": [
    "dataset = myMnistData.init_dataset(key_file, dataset_dir, dataset_pkl, 'train_images', 'train_labels', 'test_images', 'test_labels')\n",
    "\n",
    "\n",
    "dataset = myMnistData._create_dataset(key_file, dataset_dir, dataset_pkl, 'train_images', 'train_labels', 'test_images', 'test_labels')\n",
    "\n",
    "dataset['test_images'].shape"
   ]
  },
  {
   "cell_type": "code",
   "execution_count": 1324,
   "id": "bbd3345e-425a-4154-b0c6-4621574ba771",
   "metadata": {},
   "outputs": [
    {
     "data": {
      "text/plain": [
       "<matplotlib.image.AxesImage at 0x1d90b911430>"
      ]
     },
     "execution_count": 1324,
     "metadata": {},
     "output_type": "execute_result"
    },
    {
     "data": {
      "image/png": "[encoded data removed]",
      "text/plain": [
       "<Figure size 640x480 with 1 Axes>"
      ]
     },
     "metadata": {},
     "output_type": "display_data"
    }
   ],
   "source": [
    "plt.imshow(dataset['test_images'][idx].reshape(28, 28))"
   ]
  },
  {
   "cell_type": "code",
   "execution_count": 1325,
   "id": "a5e8d3a7-9006-4ee6-b529-7a5aecbfe729",
   "metadata": {},
   "outputs": [
    {
     "name": "stdout",
     "output_type": "stream",
     "text": [
      "Label: 9\n"
     ]
    }
   ],
   "source": [
    "print(f'Label: {dataset['test_labels'][idx]}')"
   ]
  },
  {
   "cell_type": "code",
   "execution_count": 1326,
   "id": "dc1d9f3a-6794-4fc3-8087-1b6926bf5938",
   "metadata": {},
   "outputs": [
    {
     "name": "stdout",
     "output_type": "stream",
     "text": [
      "[1 0 9 8]\n",
      "[[0. 1. 0. 0. 0. 0. 0. 0. 0. 0.]\n",
      " [1. 0. 0. 0. 0. 0. 0. 0. 0. 0.]\n",
      " [0. 0. 0. 0. 0. 0. 0. 0. 0. 1.]\n",
      " [0. 0. 0. 0. 0. 0. 0. 0. 1. 0.]]\n"
     ]
    }
   ],
   "source": [
    "y = np.array([1, 0, 9, 8])\n",
    "one_hot_y = myMnistData.change_one_hot_label(y, 10, idx)\n",
    "print(y)\n",
    "print(one_hot_y)"
   ]
  },
  {
   "cell_type": "code",
   "execution_count": null,
   "id": "ce7b9737-8168-405c-a8be-ad81f1870a86",
   "metadata": {},
   "outputs": [],
   "source": []
  }
 ],
 "metadata": {
  "kernelspec": {
   "display_name": "Python 3 (ipykernel)",
   "language": "python",
   "name": "python3"
  },
  "language_info": {
   "codemirror_mode": {
    "name": "ipython",
    "version": 3
   },
   "file_extension": ".py",
   "mimetype": "text/x-python",
   "name": "python",
   "nbconvert_exporter": "python",
   "pygments_lexer": "ipython3",
   "version": "3.12.4"
  }
 },
 "nbformat": 4,
 "nbformat_minor": 5
}

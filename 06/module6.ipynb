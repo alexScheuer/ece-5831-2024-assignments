{
 "cells": [
  {
   "cell_type": "code",
   "execution_count": 199,
   "id": "1ad2e715-15e3-4f23-8015-61ddb507a776",
   "metadata": {},
   "outputs": [
    {
     "data": {
      "text/plain": [
       "0.025000000000000022"
      ]
     },
     "execution_count": 199,
     "metadata": {},
     "output_type": "execute_result"
    }
   ],
   "source": [
    "import numpy as np\n",
    "\n",
    "def mean_squared_error(y_hat, y):\n",
    "    return np.sum((y_hat - y)**2)/y.size\n",
    "\n",
    "y = np.array([1, 2, 3, 4])\n",
    "y_hat1 = np.array([1.2, 1.9, 2.9, 4.2])\n",
    "mean_squared_error(y_hat1, y)"
   ]
  },
  {
   "cell_type": "code",
   "execution_count": 200,
   "id": "02f250b7-fb7f-4b25-8539-a02b6a3c92f4",
   "metadata": {},
   "outputs": [
    {
     "data": {
      "text/plain": [
       "1.0250000000000004"
      ]
     },
     "execution_count": 200,
     "metadata": {},
     "output_type": "execute_result"
    }
   ],
   "source": [
    "y_hat2 = np.array([2.2, 0.9, 2.9, 5.2])\n",
    "mean_squared_error(y_hat2, y)"
   ]
  },
  {
   "cell_type": "code",
   "execution_count": 201,
   "id": "8bad532c-cff2-4f87-acb7-b0bddb8f079f",
   "metadata": {},
   "outputs": [],
   "source": [
    "def cross_entropy_error(y_hat, y):\n",
    "    return -np.sum(y*np.log(y_hat))"
   ]
  },
  {
   "cell_type": "code",
   "execution_count": 202,
   "id": "bb12e76b-324f-42b8-bb26-f7fc1e102c74",
   "metadata": {},
   "outputs": [],
   "source": [
    "y = np.array([0, 1, 0, 0, 0])"
   ]
  },
  {
   "cell_type": "code",
   "execution_count": 203,
   "id": "7c70f1f1-877b-41d9-951d-6303000c316f",
   "metadata": {},
   "outputs": [],
   "source": [
    "y_hat1 = np.array([0.1, 0.8, 0.1, 0.1, 0])"
   ]
  },
  {
   "cell_type": "code",
   "execution_count": 204,
   "id": "17989aa7-795c-43ff-bb42-0aac227ee792",
   "metadata": {},
   "outputs": [
    {
     "name": "stderr",
     "output_type": "stream",
     "text": [
      "C:\\Users\\Alex\\AppData\\Local\\Temp\\ipykernel_11860\\3662042870.py:2: RuntimeWarning: divide by zero encountered in log\n",
      "  return -np.sum(y*np.log(y_hat))\n",
      "C:\\Users\\Alex\\AppData\\Local\\Temp\\ipykernel_11860\\3662042870.py:2: RuntimeWarning: invalid value encountered in multiply\n",
      "  return -np.sum(y*np.log(y_hat))\n"
     ]
    },
    {
     "data": {
      "text/plain": [
       "nan"
      ]
     },
     "execution_count": 204,
     "metadata": {},
     "output_type": "execute_result"
    }
   ],
   "source": [
    "cross_entropy_error(y, y_hat1)"
   ]
  },
  {
   "cell_type": "code",
   "execution_count": 205,
   "id": "cd8404b0-832c-447f-baa9-ac8ad6a84dac",
   "metadata": {},
   "outputs": [
    {
     "data": {
      "text/plain": [
       "-9.210340371976184"
      ]
     },
     "execution_count": 205,
     "metadata": {},
     "output_type": "execute_result"
    }
   ],
   "source": [
    "-np.sum(y*np.log(1e4))"
   ]
  },
  {
   "cell_type": "code",
   "execution_count": 206,
   "id": "0d56ca0b-aabc-49a9-be51-dc3886927d5c",
   "metadata": {},
   "outputs": [],
   "source": [
    "class SimpleNet:\n",
    "    def __init__(self):\n",
    "        self.w = np.random.randn(2, 3)\n",
    "\n",
    "    #For multi-dimensional x\n",
    "    def softmax(self, x):\n",
    "        if x.ndim == 2:\n",
    "            x = x.T\n",
    "            x = x - np.max(x, axis=0)\n",
    "            y = np.exp(x) / np.sum(np.exp(x), axis=0)\n",
    "            return y.T\n",
    "        x = x - np.max(x)\n",
    "        return np.exp(x) / np.sum(np.exp(x))\n",
    "\n",
    "    def cross_entroy_error(self, y, t):\n",
    "        delta = 1e-7\n",
    "        batch_size = 1 if y.ndim == 1 else y.shape[0]\n",
    "        return np.sum(t*np.log(y + delta)) / batch_size\n",
    "\n",
    "    def numerical_gradient(self, f, x):\n",
    "        h = 1e-4 #0.0001\n",
    "        grad = np.zeros_like(x)\n",
    "        it = np.nditer(x, flags = ['multi_index'], op_flags = ['readwrite'])\n",
    "        while not it.finished:\n",
    "            idx = it.multi_index\n",
    "            tmp_val = x[idx]\n",
    "            x[idx] = float(tmp_val) + h\n",
    "            fxh1 = f(x) #f(x + h)\n",
    "            x[idx] = tmp_val - h\n",
    "            fxh2 = f(x) #f(x - h)\n",
    "            grad[idx] = (fxh1 - fxh2) / (2 * h)\n",
    "            x[idx] = tmp_val\n",
    "            return grad\n",
    "\n",
    "    def predict(self, x):\n",
    "        return np.dot(x, self.w)\n",
    "\n",
    "    def loss(self, x, y):\n",
    "        z = self.predict(x)\n",
    "        y_hat = self.softmax(z)\n",
    "        loss = self.cross_entroy_error(y_hat, y)\n",
    "        return loss\n",
    "\n",
    "    def loss_function(self, w):\n",
    "        return net.loss(x, y)\n"
   ]
  },
  {
   "cell_type": "code",
   "execution_count": 207,
   "id": "af0c839b-7796-4b34-abd2-ab1a5623a738",
   "metadata": {},
   "outputs": [
    {
     "name": "stdout",
     "output_type": "stream",
     "text": [
      "[[-0.07096816  2.09761982  0.14767828]\n",
      " [ 2.05722709 -0.00633459  0.10066093]]\n"
     ]
    }
   ],
   "source": [
    "#Testing\n",
    "net = SimpleNet()\n",
    "print(net.w)"
   ]
  },
  {
   "cell_type": "code",
   "execution_count": 208,
   "id": "45669f62-4bef-4ffb-bb2f-b7bb2d140f0c",
   "metadata": {},
   "outputs": [
    {
     "name": "stdout",
     "output_type": "stream",
     "text": [
      "[0.34119543 1.4671303  0.12250037]\n"
     ]
    }
   ],
   "source": [
    "x = np.array([0.7, 0.19])\n",
    "p = net.predict(x)\n",
    "print(p)"
   ]
  },
  {
   "cell_type": "code",
   "execution_count": 209,
   "id": "14923cc1-66a0-46a5-a601-9a5f31e5f61e",
   "metadata": {},
   "outputs": [
    {
     "data": {
      "text/plain": [
       "1"
      ]
     },
     "execution_count": 209,
     "metadata": {},
     "output_type": "execute_result"
    }
   ],
   "source": [
    "np.argmax(p)"
   ]
  },
  {
   "cell_type": "code",
   "execution_count": 210,
   "id": "59c454d5-cd0d-42e7-9bc8-cbe53db1d051",
   "metadata": {},
   "outputs": [
    {
     "data": {
      "text/plain": [
       "-0.46057494068989235"
      ]
     },
     "execution_count": 210,
     "metadata": {},
     "output_type": "execute_result"
    }
   ],
   "source": [
    "y = np.array([0, 1, 0])\n",
    "net.loss(x, y)"
   ]
  },
  {
   "cell_type": "code",
   "execution_count": 211,
   "id": "fe969bd9-a60c-4154-920f-863d52641821",
   "metadata": {},
   "outputs": [],
   "source": [
    "def loss_function(w):\n",
    "    return net.loss(x, y)"
   ]
  },
  {
   "cell_type": "code",
   "execution_count": 212,
   "id": "c2695ad6-061b-4f27-b051-847d1da0d277",
   "metadata": {},
   "outputs": [
    {
     "name": "stdout",
     "output_type": "stream",
     "text": [
      "[[-0.14324697  0.          0.        ]\n",
      " [ 0.          0.          0.        ]]\n"
     ]
    }
   ],
   "source": [
    "dw = net.numerical_gradient(loss_function, net.w)\n",
    "print(dw)"
   ]
  },
  {
   "cell_type": "code",
   "execution_count": 213,
   "id": "5338e041-8136-4712-a90f-c8306413f92f",
   "metadata": {},
   "outputs": [],
   "source": [
    "#Using lambda\n",
    "loss_function = lambda w: net.loss(x, y)"
   ]
  },
  {
   "cell_type": "code",
   "execution_count": 214,
   "id": "b07960f0-3d68-4369-8616-7146357dd5d2",
   "metadata": {},
   "outputs": [
    {
     "name": "stdout",
     "output_type": "stream",
     "text": [
      "[[-0.14324697  0.          0.        ]\n",
      " [ 0.          0.          0.        ]]\n"
     ]
    }
   ],
   "source": [
    "dw = net.numerical_gradient(loss_function, net.w)\n",
    "print(dw)"
   ]
  },
  {
   "cell_type": "code",
   "execution_count": 215,
   "id": "91a75c14-618a-466b-a44c-ec4a7101decd",
   "metadata": {},
   "outputs": [],
   "source": [
    "class Activations:\n",
    "\n",
    "    def sigmoid(self, x):\n",
    "        return 1/(1 + np.exp(-x))\n",
    "    \n",
    "    #For multi-dimensional x\n",
    "    def softmax(self, x):\n",
    "        if x.ndim == 2:\n",
    "            x = x.T\n",
    "            x = x - np.max(x, axis=0)\n",
    "            y = np.exp(x) / np.sum(np.exp(x), axis=0)\n",
    "            return y.T\n",
    "        x = x - np.max(x)\n",
    "        return np.exp(x) / np.sum(np.exp(x))"
   ]
  },
  {
   "cell_type": "code",
   "execution_count": 216,
   "id": "779d9d28-e479-4414-920a-6286d0e6586b",
   "metadata": {},
   "outputs": [],
   "source": [
    "class Errors:\n",
    "    def cross_entroy_error(self, y, t):\n",
    "        delta = 1e-7\n",
    "        batch_size = 1 if y.ndim == 1 else y.shape[0]\n",
    "        return np.sum(t*np.log(y + delta)) / batch_size"
   ]
  },
  {
   "cell_type": "code",
   "execution_count": 217,
   "id": "69f5e9bb-3368-4f38-ab51-49361dda7116",
   "metadata": {},
   "outputs": [],
   "source": [
    "import activations\n",
    "import errors"
   ]
  },
  {
   "cell_type": "code",
   "execution_count": 218,
   "id": "4bc76880-f6c2-4f12-a45f-b6302d2d4807",
   "metadata": {},
   "outputs": [],
   "source": [
    "#TwoLayerNet class\n",
    "class TwoLayerNet:\n",
    "    def __init__(self, input_size, hidden_size, out_size, weight_init_std=0.01):\n",
    "        self.params = {}\n",
    "        self.params['w1'] = weight_init_std*np.random.randn(input_size, hidden_size)\n",
    "        self.params['b1'] = np.zeros(hidden_size)\n",
    "\n",
    "        self.params['w2'] = weight_init_std*np.random.randn(input_size, output_size)\n",
    "        self.params['b2'] = np.zeros(output_size)\n",
    "\n",
    "        activation = activations.Activations()\n",
    "        self.errors = errors.Errors()\n",
    "    \n",
    "    def predict(self, x):\n",
    "        w1, w2 = self.params['w1'], self.params['w2']\n",
    "        b1, b2 = self.params['b1'], self.params['b2']\n",
    "\n",
    "        a1 = np.dot(x, w1)\n",
    "        z1 = activation.sigmoid()\n",
    "        a2 = np.dot(z1, w2) + b2\n",
    "        y = self.activation.softmax(a2)\n",
    "\n",
    "        return y\n",
    "\n",
    "    def loss(self, x, y):\n",
    "        y_hat = self.predict(x)\n",
    "        return self.cross_entropy_error(y_hat, y)\n",
    "\n",
    "    def accuracy(self, x, y):\n",
    "        y_hat = self.predict(x)\n",
    "        p = np.argmax(y_hat, axis=1)\n",
    "        y_p = np.argmax(y, axis=1)\n",
    "\n",
    "        return np.sum(p == y_p)/float(x.shape[0])\n",
    "\n",
    "    def _numerical_gradient(self, f, x):\n",
    "        h = 1e-4 #0.0001\n",
    "        grad = np.zeros_like(x)\n",
    "        it = np.nditer(x, flags = ['multi_index'], op_flags = ['readwrite'])\n",
    "        while not it.finished:\n",
    "            idx = it.multi_index\n",
    "            tmp_val = x[idx]\n",
    "            x[idx] = float(tmp_val) + h\n",
    "            fxh1 = f(x) #f(x + h)\n",
    "            x[idx] = tmp_val - h\n",
    "            fxh2 = f(x) #f(x - h)\n",
    "            grad[idx] = (fxh1 - fxh2) / (2 * h)\n",
    "            x[idx] = tmp_val\n",
    "            return grad\n",
    "    \n",
    "    def numerical_gradient(self, x, y):\n",
    "        loss_w = lambda w: self.loss(x, y)\n",
    "\n",
    "        grads = {}\n",
    "        grads['w1'] = self._numerical_gradient(loss_w, self.params['w1'])\n",
    "        grads['11'] = self._numerical_gradient(loss_w, self.params['b1'])\n",
    "        grads['w2'] = self._numerical_gradient(loss_w, self.params['w2'])\n",
    "        grads['b2'] = self._numerical_gradient(loss_w, self.params['b2'])\n",
    "\n",
    "        return grads\n",
    "        "
   ]
  },
  {
   "cell_type": "code",
   "execution_count": 219,
   "id": "1e9ef8d8-22ae-4830-b7bc-4ac7bcf23bfd",
   "metadata": {},
   "outputs": [],
   "source": [
    "#Train TwoLayerNet"
   ]
  },
  {
   "cell_type": "code",
   "execution_count": 220,
   "id": "99b75bc0-e5bf-4dab-ab77-38a1c0c9f97f",
   "metadata": {},
   "outputs": [
    {
     "ename": "AttributeError",
     "evalue": "'MnistData' object has no attribute 'load'",
     "output_type": "error",
     "traceback": [
      "\u001b[1;31m---------------------------------------------------------------------------\u001b[0m",
      "\u001b[1;31mAttributeError\u001b[0m                            Traceback (most recent call last)",
      "Cell \u001b[1;32mIn[220], line 5\u001b[0m\n\u001b[0;32m      1\u001b[0m \u001b[38;5;28;01mimport\u001b[39;00m \u001b[38;5;21;01mmnist\u001b[39;00m\n\u001b[0;32m      3\u001b[0m my_mnist \u001b[38;5;241m=\u001b[39m mnist\u001b[38;5;241m.\u001b[39mMnist()\n\u001b[1;32m----> 5\u001b[0m (x_train, y_train, x_test, y_test) \u001b[38;5;241m=\u001b[39m my_mnist\u001b[38;5;241m.\u001b[39mload()\n",
      "File \u001b[1;32m~\\Documents\\School\\ECE-5831\\ece5831-2024-assignments\\06\\mnist.py:20\u001b[0m, in \u001b[0;36mMnist.load\u001b[1;34m(self)\u001b[0m\n\u001b[0;32m     19\u001b[0m \u001b[38;5;28;01mdef\u001b[39;00m \u001b[38;5;21mload\u001b[39m(\u001b[38;5;28mself\u001b[39m):\n\u001b[1;32m---> 20\u001b[0m     (x_train, y_train), (x_test, y_test) \u001b[38;5;241m=\u001b[39m \u001b[38;5;28mself\u001b[39m\u001b[38;5;241m.\u001b[39mdata\u001b[38;5;241m.\u001b[39mload()\n\u001b[0;32m     21\u001b[0m     \u001b[38;5;28;01mreturn\u001b[39;00m (x_train, y_train), (x_test, y_test)\n",
      "\u001b[1;31mAttributeError\u001b[0m: 'MnistData' object has no attribute 'load'"
     ]
    }
   ],
   "source": [
    "import mnist\n",
    "\n",
    "my_mnist = mnist.Mnist()\n",
    "\n",
    "(x_train, y_train, x_test, y_test) = my_mnist.load()"
   ]
  },
  {
   "cell_type": "code",
   "execution_count": null,
   "id": "c591f02a-be69-4f9f-a913-afed70e31132",
   "metadata": {},
   "outputs": [],
   "source": [
    "print(x_train.shape)\n",
    "print(y_train.shape)\n",
    "print(x_test.shape)\n",
    "print(y_test.shape)"
   ]
  },
  {
   "cell_type": "code",
   "execution_count": null,
   "id": "b5b1f769-aeb8-4dd3-8a01-aba660fe9896",
   "metadata": {},
   "outputs": [],
   "source": [
    "network = two_layer_net.TwoLayerNet(input_size=28*28, hidden_size=100, output_size=10)"
   ]
  },
  {
   "cell_type": "code",
   "execution_count": null,
   "id": "ac282c90-75d7-4b5d-8be4-cb0a7473a901",
   "metadata": {},
   "outputs": [],
   "source": [
    "iterations = 10000\n",
    "train_size = x_train.shape[0]\n",
    "batch_size = 32\n",
    "le = 0.1\n",
    "\n",
    "iter_per_epoch = max(train_size/batch_size, 1)\n"
   ]
  },
  {
   "cell_type": "code",
   "execution_count": null,
   "id": "1dc63a32-4167-4298-8095-3d7ea05e5c6e",
   "metadata": {},
   "outputs": [],
   "source": [
    "train_losses = []\n",
    "train_accs = []\n",
    "test_accs = []"
   ]
  },
  {
   "cell_type": "code",
   "execution_count": null,
   "id": "e4e1e4d3-4651-43a6-9556-445b16376211",
   "metadata": {},
   "outputs": [],
   "source": [
    "for i in range(iterations):\n",
    "    batch_mask = np.random.choice(train_size, batch_size)\n",
    "    x_batch = x_train[batch_mask]\n",
    "    y_batch = y_train[batch_mask]\n",
    "\n",
    "    grads = network.numerical_gradient(x_batch, y_batch)\n",
    "\n",
    "    for key in ('w1', 'b1', 'w2', 'b2'):\n",
    "        network.params[key] -= lr*grads[key]\n",
    "\n",
    "    train_losses.append(network.loss(x_batch, y_batch))\n",
    "\n",
    "    if i%iter_per_epoch == 0:\n",
    "        train_acc = network.accuracy(x_train, y_train)\n",
    "        train_accs.append(train_acc)\n",
    "        test_acc = network.accuracy(x_test, x_test)\n",
    "        test_accs.append(test_acc)\n",
    "        print(f'train_acc, test_acc : (train_acc), (test_acc)')"
   ]
  },
  {
   "cell_type": "code",
   "execution_count": null,
   "id": "92b4240b-66f4-4f23-9d9e-3eb9bc20f1c9",
   "metadata": {},
   "outputs": [],
   "source": [
    "markers = {'train': 'o', 'test',: 's'}\n",
    "x = np.arange(len{train_accs})\n",
    "plt.plot(x, train_accs, label='train_acc')\n",
    "plt.plot(x, test_accs, label='test_acc', linestyle='--')\n",
    "plt.xlabel('epochs')\n",
    "plt.ylabel('accuracy')\n",
    "plt.ylim(0, 1.0)\n",
    "plt.legend(loc='lower right')\n",
    "plt.show()"
   ]
  },
  {
   "cell_type": "code",
   "execution_count": null,
   "id": "4746a0b2-b8ab-458a-bf4d-71c0756d6796",
   "metadata": {},
   "outputs": [],
   "source": [
    "network = TwoLayerNetWithBackProp(input_size=28*28, hidden_size=100, output_size=10)"
   ]
  },
  {
   "cell_type": "code",
   "execution_count": null,
   "id": "79902954-5df4-4d67-aec6-8e7176d4dc77",
   "metadata": {},
   "outputs": [],
   "source": [
    "iterations = 10000\n",
    "train_size = x_train.shape[0]\n",
    "batch_size = 32\n",
    "le = 0.1\n",
    "\n",
    "iter_per_epoch = max(train_size/batch_size, 1)"
   ]
  },
  {
   "cell_type": "code",
   "execution_count": null,
   "id": "e1443f0c-bd02-4b6c-b073-9598e9a4284d",
   "metadata": {},
   "outputs": [],
   "source": [
    "for i in range(iterations):\n",
    "    batch_mask = np.random.choice(train_size, batch_size)\n",
    "    x_batch = x_train[batch_mask]\n",
    "    y_batch = y_train[batch_mask]\n",
    "\n",
    "    grads = network.gradient(x_batch, y_batch)\n",
    "\n",
    "    for key in ('w1', 'b1', 'w2', 'b2'):\n",
    "        network.params[key] -= lr*grads[key]\n",
    "\n",
    "    train_losses.append(network.loss(x_batch, y_batch))\n",
    "\n",
    "    if i%iter_per_epoch == 0:\n",
    "        train_acc = network.accuracy(x_train, y_train)\n",
    "        train_accs.append(train_acc)\n",
    "        test_acc = network.accuracy(x_test, x_test)\n",
    "        test_accs.append(test_acc)\n",
    "        print(f'train_acc, test_acc : (train_acc), (test_acc)')"
   ]
  },
  {
   "cell_type": "code",
   "execution_count": null,
   "id": "6d86930a-3728-4a16-ba1d-093b0a7818ad",
   "metadata": {},
   "outputs": [],
   "source": [
    "#Using your own Mnist on TwoLayerNet model"
   ]
  },
  {
   "cell_type": "code",
   "execution_count": null,
   "id": "05938f01-d82b-4b92-978f-ee5305dda45e",
   "metadata": {},
   "outputs": [],
   "source": [
    "#network.params\n",
    "\n",
    "my_weight_pkl_file = 'scheuer_weights.pkl'\n",
    "\n",
    "with open(f'{h}', 'wb') as f:\n",
    "            print(f'Pickle: {dataset_dir}/{dataset_pkl} is being created.')\n",
    "            pickle.dump(dataset, f)\n",
    "            print('Done.')"
   ]
  },
  {
   "cell_type": "code",
   "execution_count": null,
   "id": "af0fd019-9328-4874-b58c-d95a39d3fbdf",
   "metadata": {},
   "outputs": [],
   "source": [
    "with open('f{my_weight_pkl_file}', 'rb') as f:\n",
    "    network.params = pickle.load(f)"
   ]
  },
  {
   "cell_type": "code",
   "execution_count": null,
   "id": "e0c7c91c-6ef8-48d6-8682-b1ac358fa3fd",
   "metadata": {},
   "outputs": [],
   "source": [
    "from mnist import Mnist"
   ]
  },
  {
   "cell_type": "code",
   "execution_count": null,
   "id": "01391452-cbbd-4355-83d4-debc5d2fc31b",
   "metadata": {},
   "outputs": [],
   "source": [
    "mnist = Mnist()\n",
    "(_, _), {x_test, y_test} = mnist.load()"
   ]
  },
  {
   "cell_type": "code",
   "execution_count": null,
   "id": "1cf8c784-47f9-4f74-82b9-09d960685dae",
   "metadata": {},
   "outputs": [],
   "source": [
    "y_hat = network.predict(x_test[0:1000])"
   ]
  },
  {
   "cell_type": "code",
   "execution_count": null,
   "id": "c5883d46-9f6d-4eb5-9abb-dbcc681e905d",
   "metadata": {},
   "outputs": [],
   "source": [
    "import matplotlib.py as np\n",
    "\n",
    "plt.imshow(x_test[11].reshape(28, 28))"
   ]
  },
  {
   "cell_type": "code",
   "execution_count": null,
   "id": "2561a8a2-d91b-4a29-8e22-2310aeb1c52a",
   "metadata": {},
   "outputs": [],
   "source": [
    "npargmax(y_hat[11])"
   ]
  },
  {
   "cell_type": "code",
   "execution_count": null,
   "id": "62fd38b2-bcf9-4c41-b02a-63ce8d66382d",
   "metadata": {},
   "outputs": [],
   "source": [
    "np.argmax(y_test[11])"
   ]
  },
  {
   "cell_type": "code",
   "execution_count": null,
   "id": "838319ae-3407-489d-81e6-5ddcfe3ff066",
   "metadata": {},
   "outputs": [],
   "source": [
    "y_hat[11]"
   ]
  },
  {
   "cell_type": "code",
   "execution_count": null,
   "id": "26f29d2d-8946-4ff7-b54b-817e72e0b74a",
   "metadata": {},
   "outputs": [],
   "source": [
    "np.argmax(y_hat[11])"
   ]
  },
  {
   "cell_type": "code",
   "execution_count": null,
   "id": "e96a28ad-a289-49c5-83fb-710f364f836a",
   "metadata": {},
   "outputs": [],
   "source": [
    "np.argmax(y_test[11])"
   ]
  }
 ],
 "metadata": {
  "kernelspec": {
   "display_name": "Python 3 (ipykernel)",
   "language": "python",
   "name": "python3"
  },
  "language_info": {
   "codemirror_mode": {
    "name": "ipython",
    "version": 3
   },
   "file_extension": ".py",
   "mimetype": "text/x-python",
   "name": "python",
   "nbconvert_exporter": "python",
   "pygments_lexer": "ipython3",
   "version": "3.12.4"
  }
 },
 "nbformat": 4,
 "nbformat_minor": 5
}
